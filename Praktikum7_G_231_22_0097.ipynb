{
  "nbformat": 4,
  "nbformat_minor": 0,
  "metadata": {
    "colab": {
      "provenance": [],
      "authorship_tag": "ABX9TyOcliPjBRjf2o+8BeuiGIxD",
      "include_colab_link": true
    },
    "kernelspec": {
      "name": "python3",
      "display_name": "Python 3"
    },
    "language_info": {
      "name": "python"
    }
  },
  "cells": [
    {
      "cell_type": "markdown",
      "metadata": {
        "id": "view-in-github",
        "colab_type": "text"
      },
      "source": [
        "<a href=\"https://colab.research.google.com/github/kholiqhidayat/Praktikum1-8_G.31.22.0097struktur-data/blob/main/Praktikum7_G_231_22_0097.ipynb\" target=\"_parent\"><img src=\"https://colab.research.google.com/assets/colab-badge.svg\" alt=\"Open In Colab\"/></a>"
      ]
    },
    {
      "cell_type": "markdown",
      "source": [
        "**Inorder_G.231.22.0097**"
      ],
      "metadata": {
        "id": "xeSsxj2yg73m"
      }
    },
    {
      "cell_type": "code",
      "source": [
        "# Preorder Binary Tree\n",
        "\n",
        "class Node:\n",
        "    def __init__(self, key):\n",
        "        self.left = None\n",
        "        self.right = None\n",
        "        self.val = key\n",
        "\n",
        "# A function to do preorder tree traversal\n",
        "def printPreorder(root):\n",
        "    if root:\n",
        "        # First print the data of the node\n",
        "        print(root.val, end=\" \")\n",
        "\n",
        "        # Then recur on left child\n",
        "        printPreorder(root.left)\n",
        "\n",
        "        # Finally recur on right child\n",
        "        printPreorder(root.right)\n",
        "\n",
        "# Driver code\n",
        "if __name__ == \"__main__\":\n",
        "    root = Node(1)\n",
        "    root.left = Node(2)\n",
        "    root.right = Node(3)\n",
        "    root.left.left = Node(4)\n",
        "    root.left.right = Node(5)\n",
        "\n",
        "    # Function call\n",
        "    print(\"Preorder Traversal of binary tree is\")\n",
        "    printPreorder(root)\n"
      ],
      "metadata": {
        "colab": {
          "base_uri": "https://localhost:8080/"
        },
        "id": "4sBA8t7QcUGw",
        "outputId": "cc4bb86b-3051-4a19-a488-63bef73b2d7a"
      },
      "execution_count": null,
      "outputs": [
        {
          "output_type": "stream",
          "name": "stdout",
          "text": [
            "Preorder Traversal of binary tree is\n",
            "1 2 4 5 3 "
          ]
        }
      ]
    },
    {
      "cell_type": "markdown",
      "source": [
        "**Preorder_G.231.22.0097**"
      ],
      "metadata": {
        "id": "ok3EgDgxhNyr"
      }
    },
    {
      "cell_type": "code",
      "source": [
        "# Python3 program for tree traversals\n",
        "# Inorder\n",
        "class Node:\n",
        "    def __init__(self, key):\n",
        "        self.left = None\n",
        "        self.right = None\n",
        "        self.val = key\n",
        "\n",
        "\n",
        "# A Function to do inorder tree traversal\n",
        "def printInorder(root):\n",
        "\n",
        "    if root:\n",
        "\n",
        "        # First recur on left child\n",
        "        printInorder(root.left)\n",
        "\n",
        "        # then print the data of the node\n",
        "        print(root.val),\n",
        "\n",
        "        # now recur on the right child\n",
        "        printInorder(root.right)\n",
        "\n",
        "# Driver code\n",
        "if __name__ == \"__main__\":\n",
        "    root = Node(1)\n",
        "    root.left = Node(2)\n",
        "    root.right = Node(3)\n",
        "    root.left.left = Node(4)\n",
        "    root.left.right = Node(5)\n",
        "\n",
        "    # Function call\n",
        "    print (\"\\nInorder traversal of binary tree is\")\n",
        "    printInorder(root)\n"
      ],
      "metadata": {
        "colab": {
          "base_uri": "https://localhost:8080/"
        },
        "id": "kdtA94PAXlS-",
        "outputId": "b7b6eea1-41da-4559-9958-d06d56d836ef"
      },
      "execution_count": null,
      "outputs": [
        {
          "output_type": "stream",
          "name": "stdout",
          "text": [
            "\n",
            "Inorder traversal of binary tree is\n",
            "4\n",
            "2\n",
            "5\n",
            "1\n",
            "3\n"
          ]
        }
      ]
    },
    {
      "cell_type": "markdown",
      "source": [
        "**Postorder_G.231.22.0097**"
      ],
      "metadata": {
        "id": "V6A59KVThh5o"
      }
    },
    {
      "cell_type": "code",
      "source": [
        "# Postorder Binary Tree\n",
        "\n",
        "class Node:\n",
        "    def __init__(self, key):\n",
        "        self.left = None\n",
        "        self.right = None\n",
        "        self.val = key\n",
        "\n",
        "# A Function to do postorder tree traversal\n",
        "def printPostorder(root):\n",
        "    if root:\n",
        "        # First recur on left child\n",
        "        printPostorder(root.left)\n",
        "\n",
        "        # Then recur on right child\n",
        "        printPostorder(root.right)\n",
        "\n",
        "        # Now print the data of node\n",
        "        print(root.val, end=\" \")\n",
        "\n",
        "# Driver Code\n",
        "if __name__ == \"__main__\":\n",
        "    root = Node(1)\n",
        "    root.left = Node(2)\n",
        "    root.right = Node(3)\n",
        "    root.left.left = Node(4)\n",
        "    root.left.right = Node(5)\n",
        "\n",
        "    # Function call\n",
        "    print(\"\\nPostorder traversal of binary tree is\")\n",
        "    printPostorder(root)\n"
      ],
      "metadata": {
        "colab": {
          "base_uri": "https://localhost:8080/"
        },
        "id": "7BLo4bNMcW4C",
        "outputId": "44bf188f-598e-41de-f8c1-7c20aec20f14"
      },
      "execution_count": null,
      "outputs": [
        {
          "output_type": "stream",
          "name": "stdout",
          "text": [
            "\n",
            "Postorder traversal of binary tree is\n",
            "4 5 2 3 1 "
          ]
        }
      ]
    }
  ]
}