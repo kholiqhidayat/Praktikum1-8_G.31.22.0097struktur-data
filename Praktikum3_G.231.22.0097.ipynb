{
  "nbformat": 4,
  "nbformat_minor": 0,
  "metadata": {
    "colab": {
      "provenance": [],
      "authorship_tag": "ABX9TyPw9c1hKVigR+UqNi7XRvbI",
      "include_colab_link": true
    },
    "kernelspec": {
      "name": "python3",
      "display_name": "Python 3"
    },
    "language_info": {
      "name": "python"
    }
  },
  "cells": [
    {
      "cell_type": "markdown",
      "metadata": {
        "id": "view-in-github",
        "colab_type": "text"
      },
      "source": [
        "<a href=\"https://colab.research.google.com/github/kholiqhidayat/Praktikum1-8_G.31.22.0097struktur-data/blob/main/Praktikum3_G.231.22.0097.ipynb\" target=\"_parent\"><img src=\"https://colab.research.google.com/assets/colab-badge.svg\" alt=\"Open In Colab\"/></a>"
      ]
    },
    {
      "cell_type": "code",
      "execution_count": 3,
      "metadata": {
        "id": "0W0Dq9yHCoAj",
        "colab": {
          "base_uri": "https://localhost:8080/"
        },
        "outputId": "05e65a4b-db71-4d83-fb94-98e91e8207b4"
      },
      "outputs": [
        {
          "output_type": "stream",
          "name": "stdout",
          "text": [
            "geeksforgeeks\n"
          ]
        }
      ],
      "source": [
        "def convert(s):\n",
        "    new = \"\"\n",
        "    for x in s:\n",
        "        new += x\n",
        "    return new\n",
        "\n",
        "# driver code\n",
        "s = ['g', 'e', 'e', 'k', 's', 'f', 'o', 'r', 'g', 'e', 'e', 'k', 's']\n",
        "print(convert(s))\n"
      ]
    },
    {
      "cell_type": "code",
      "source": [
        "  def Huruf (s) :\n",
        "    abjad = \"\"\n",
        "    for x in s :\n",
        "      abjad += x\n",
        "\n",
        "    return abjad\n",
        "\n",
        "  # driver code\n",
        "  s = ['p','r','o','g','r','a','m','m','i','n','g']\n",
        "  print(Huruf (s))"
      ],
      "metadata": {
        "colab": {
          "base_uri": "https://localhost:8080/"
        },
        "id": "KJ1l2_J6FPvz",
        "outputId": "053aaead-e7d2-4792-d021-69308a6d45c8"
      },
      "execution_count": 4,
      "outputs": [
        {
          "output_type": "stream",
          "name": "stdout",
          "text": [
            "programming\n"
          ]
        }
      ]
    }
  ]
}