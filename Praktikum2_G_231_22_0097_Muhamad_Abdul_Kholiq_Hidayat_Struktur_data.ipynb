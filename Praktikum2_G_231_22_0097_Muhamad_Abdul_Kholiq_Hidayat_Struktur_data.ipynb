{
  "nbformat": 4,
  "nbformat_minor": 0,
  "metadata": {
    "colab": {
      "provenance": [],
      "authorship_tag": "ABX9TyP/hYnaIeF3Yu9RO5QgB7No",
      "include_colab_link": true
    },
    "kernelspec": {
      "name": "python3",
      "display_name": "Python 3"
    },
    "language_info": {
      "name": "python"
    }
  },
  "cells": [
    {
      "cell_type": "markdown",
      "metadata": {
        "id": "view-in-github",
        "colab_type": "text"
      },
      "source": [
        "<a href=\"https://colab.research.google.com/github/kholiqhidayat/Praktikum1-8_G.31.22.0097struktur-data/blob/main/Praktikum2_G_231_22_0097_Muhamad_Abdul_Kholiq_Hidayat_Struktur_data.ipynb\" target=\"_parent\"><img src=\"https://colab.research.google.com/assets/colab-badge.svg\" alt=\"Open In Colab\"/></a>"
      ]
    },
    {
      "cell_type": "code",
      "execution_count": 1,
      "metadata": {
        "id": "2LtECKtTPidI",
        "colab": {
          "base_uri": "https://localhost:8080/"
        },
        "outputId": "66f4ca4e-63bb-47e3-e10c-149efd7356e9"
      },
      "outputs": [
        {
          "output_type": "stream",
          "name": "stdout",
          "text": [
            "[5, 1, 4, 2, 9, 10, 3, 6, 7]\n",
            "[5, 1, 4, 2, 9, 10, 3, 6, 7]\n"
          ]
        }
      ],
      "source": [
        "def int(alist):\n",
        "    for slot in range(0,len(alist)-1):\n",
        "        position = slot\n",
        "    for location in range(slot+1,len(alist)):\n",
        "        if alist[location]<alist[position]:\n",
        "            position = location\n",
        "\n",
        "    temp = alist[slot]\n",
        "    alist[slot] = alist[position]\n",
        "    alist[position] = temp\n",
        "    print(alist)\n",
        "angka = [5,1,4,2,9,10,3,6,7]\n",
        "int(angka)\n",
        "print(angka)"
      ]
    },
    {
      "cell_type": "code",
      "source": [
        "# Membuat sebuah tuple\n",
        "tuple1 = ('Kholiq','Chandra','Riko','Pepes')\n",
        "tuple2 = (1,2,3,4,5,6,7,8,0)\n",
        "\n",
        "# Mengakses elemen-elemen tuple\n",
        "print(tuple1[0])\n",
        "print(tuple2[7])\n",
        "\n",
        "# Menggabungkan tuple\n",
        "combined_tuple = tuple1 + tuple2\n",
        "print(combined_tuple)"
      ],
      "metadata": {
        "colab": {
          "base_uri": "https://localhost:8080/"
        },
        "id": "K7VTaBVO5frs",
        "outputId": "7be90901-9b8d-4960-acb2-33b2058c0297"
      },
      "execution_count": 2,
      "outputs": [
        {
          "output_type": "stream",
          "name": "stdout",
          "text": [
            "Kholiq\n",
            "8\n",
            "('Kholiq', 'Chandra', 'Riko', 'Pepes', 1, 2, 3, 4, 5, 6, 7, 8, 0)\n"
          ]
        }
      ]
    },
    {
      "cell_type": "code",
      "source": [
        "# Membuat sebuah dictionary\n",
        "dict = {'nama': 'Kholiq', 'umur': 20, 'pekerjaan': 'Wirausaha'}\n",
        "\n",
        "# Mengakses nilai berdasarkan kunci\n",
        "print(\"Nama:\", dict['nama'])\n",
        "print(\"Pekerjaan:\", dict['pekerjaan'])\n",
        "\n",
        "# Menambahkan entri baru\n",
        "dict['scholl'] = 'Universitas Semarang'\n",
        "\n",
        "# Menghapus entri\n",
        "del dict['umur']\n",
        "\n",
        "# Iterasi melalui dictionary\n",
        "print(\"Isi dictionary:\")\n",
        "for key, value in dict.items():\n",
        "    print(key, \":\", value)"
      ],
      "metadata": {
        "colab": {
          "base_uri": "https://localhost:8080/"
        },
        "id": "DkrcUvlz5hq_",
        "outputId": "b06b95c0-466d-494c-d830-3e1116f0d618"
      },
      "execution_count": 3,
      "outputs": [
        {
          "output_type": "stream",
          "name": "stdout",
          "text": [
            "Nama: Kholiq\n",
            "Pekerjaan: Wirausaha\n",
            "Isi dictionary:\n",
            "nama : Kholiq\n",
            "pekerjaan : Wirausaha\n",
            "scholl : Universitas Semarang\n"
          ]
        }
      ]
    }
  ]
}